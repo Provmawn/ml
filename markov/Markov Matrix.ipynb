{
 "cells": [
  {
   "cell_type": "code",
   "execution_count": 93,
   "id": "fc010995",
   "metadata": {},
   "outputs": [],
   "source": [
    "import numpy as np\n",
    "import random as rm"
   ]
  },
  {
   "cell_type": "code",
   "execution_count": 94,
   "id": "f7c1ff9f",
   "metadata": {},
   "outputs": [],
   "source": [
    "states = [\"sleeping\", \"coding\", \"watching youtube\"]\n",
    "matrix = [[0.2, 0.3, 0.5],\n",
    "         [0.0, 0.6, 0.4],\n",
    "         [0.0, 0.4, 0.6]]"
   ]
  },
  {
   "cell_type": "code",
   "execution_count": 95,
   "id": "5b41ca87",
   "metadata": {},
   "outputs": [],
   "source": [
    "def validate_transition_matrix(matrix):\n",
    "    if len(matrix) == 0:\n",
    "        return False\n",
    "    for i, row in enumerate(matrix):\n",
    "        if sum(matrix[i]) != 1:\n",
    "            return False\n",
    "    return True"
   ]
  },
  {
   "cell_type": "code",
   "execution_count": 96,
   "id": "7416944d",
   "metadata": {},
   "outputs": [
    {
     "data": {
      "text/plain": [
       "True"
      ]
     },
     "execution_count": 96,
     "metadata": {},
     "output_type": "execute_result"
    }
   ],
   "source": [
    "validate_transition_matrix(matrix)"
   ]
  },
  {
   "cell_type": "code",
   "execution_count": 97,
   "id": "c02a0a69",
   "metadata": {},
   "outputs": [],
   "source": [
    "def simulate_my_day(hours):\n",
    "    current_state = states[0]\n",
    "    state_index = 0\n",
    "    for hour in range(hours):\n",
    "        print(\"Hour \" + str(hour + 1) + \": \" + current_state)\n",
    "        # find current state index\n",
    "        state_index = states.index(current_state)\n",
    "        # generate new state\n",
    "        current_state = np.random.choice(states, replace=True, p=matrix[state_index])\n",
    "    "
   ]
  },
  {
   "cell_type": "code",
   "execution_count": 98,
   "id": "98983a66",
   "metadata": {},
   "outputs": [
    {
     "name": "stdout",
     "output_type": "stream",
     "text": [
      "Hour 1: sleeping\n",
      "Hour 2: sleeping\n",
      "Hour 3: watching youtube\n",
      "Hour 4: watching youtube\n",
      "Hour 5: coding\n"
     ]
    }
   ],
   "source": [
    "simulate_my_day(5)"
   ]
  },
  {
   "cell_type": "code",
   "execution_count": null,
   "id": "46e9ee7c",
   "metadata": {},
   "outputs": [],
   "source": []
  }
 ],
 "metadata": {
  "kernelspec": {
   "display_name": "Python 3 (ipykernel)",
   "language": "python",
   "name": "python3"
  },
  "language_info": {
   "codemirror_mode": {
    "name": "ipython",
    "version": 3
   },
   "file_extension": ".py",
   "mimetype": "text/x-python",
   "name": "python",
   "nbconvert_exporter": "python",
   "pygments_lexer": "ipython3",
   "version": "3.9.12"
  }
 },
 "nbformat": 4,
 "nbformat_minor": 5
}
