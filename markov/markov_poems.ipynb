{
 "cells": [
  {
   "cell_type": "code",
   "execution_count": 1,
   "id": "20694d82",
   "metadata": {},
   "outputs": [],
   "source": [
    "import numpy as np\n",
    "import random as rm"
   ]
  },
  {
   "cell_type": "code",
   "execution_count": 2,
   "id": "cd79f94b",
   "metadata": {},
   "outputs": [],
   "source": [
    "def generate_states(text):\n",
    "    states = text.split()\n",
    "    states = list(dict.fromkeys(states))\n",
    "    return states"
   ]
  },
  {
   "cell_type": "code",
   "execution_count": 3,
   "id": "a864989b",
   "metadata": {},
   "outputs": [],
   "source": [
    "poem = '''\n",
    "He ate and drank the precious words,\n",
    "His spirit grew robust;\n",
    "He knew no more that he was poor,\n",
    "Nor that his frame was dust.\n",
    "He danced along the dingy days,\n",
    "And this bequest of wings\n",
    "Was but a book. What liberty\n",
    "A loosened spirit brings!\n",
    "'''\n",
    "states = generate_states(poem)\n",
    "#states"
   ]
  },
  {
   "cell_type": "code",
   "execution_count": 4,
   "id": "640580fa",
   "metadata": {},
   "outputs": [],
   "source": [
    "import math\n",
    "\n",
    "def compute_occurence_matrix(text, randomness=False):\n",
    "    matrix = np.zeros((len(states), len(states)))\n",
    "    words = text.split()\n",
    "    for pos in range(len(words) - 1):\n",
    "        i = states.index(words[pos])\n",
    "        j = states.index(words[pos + 1])\n",
    "        matrix[i][j] += 1\n",
    "    \n",
    "    matrix[len(states) - 1][len(states) - 1] = .5\n",
    "    matrix[len(states) - 1][len(states) - 1] = 1\n",
    "    if randomness == True:\n",
    "        matrix[len(states) - 1][0] = .3333\n",
    "        matrix[len(states) - 1][len(states) - 1] = .3333\n",
    "        matrix[len(states) - 1][math.ceil((len(states) - 1) / 2)] = .3333\n",
    "    return matrix"
   ]
  },
  {
   "cell_type": "code",
   "execution_count": 5,
   "id": "ca71dee7",
   "metadata": {},
   "outputs": [],
   "source": [
    "def compute_transition_matrix(occurence_matrix):\n",
    "    matrix = np.zeros((len(states), len(states)))\n",
    "    for i, row in enumerate(occurence_matrix):\n",
    "        total = sum(row)\n",
    "        for j, col in enumerate(occurence_matrix):\n",
    "            if total != 0:\n",
    "                matrix[i][j] = occurence_matrix[i][j] / total\n",
    "    return matrix\n",
    "        "
   ]
  },
  {
   "cell_type": "code",
   "execution_count": 6,
   "id": "188167d7",
   "metadata": {},
   "outputs": [],
   "source": [
    "occurence_matrix = compute_occurence_matrix(poem)"
   ]
  },
  {
   "cell_type": "code",
   "execution_count": 7,
   "id": "cd6ebf4c",
   "metadata": {},
   "outputs": [],
   "source": [
    "transition_matrix = compute_transition_matrix(occurence_matrix)\n",
    "#transition_matrix"
   ]
  },
  {
   "cell_type": "code",
   "execution_count": 8,
   "id": "b0cb45de",
   "metadata": {},
   "outputs": [],
   "source": [
    "def validate_transition_matrix(matrix):\n",
    "    if len(matrix) == 0:\n",
    "        return False\n",
    "    for i, row in enumerate(matrix):\n",
    "        if sum(matrix[i]) != 1:\n",
    "            return False, i, sum(matrix[i]), row\n",
    "    return True"
   ]
  },
  {
   "cell_type": "code",
   "execution_count": 9,
   "id": "4a437e33",
   "metadata": {},
   "outputs": [
    {
     "data": {
      "text/plain": [
       "True"
      ]
     },
     "execution_count": 9,
     "metadata": {},
     "output_type": "execute_result"
    }
   ],
   "source": [
    "validate_transition_matrix(transition_matrix)"
   ]
  },
  {
   "cell_type": "code",
   "execution_count": 10,
   "id": "30afb829",
   "metadata": {},
   "outputs": [],
   "source": [
    "def simulate_poem(word_count):\n",
    "    current_state = states[0]\n",
    "    state_index = 0\n",
    "    for hour in range(word_count):\n",
    "        print(current_state, end=' ')\n",
    "        # find current state index\n",
    "        state_index = states.index(current_state)\n",
    "        # generate new state\n",
    "        current_state = np.random.choice(states, replace=True, p=transition_matrix[state_index])"
   ]
  },
  {
   "cell_type": "code",
   "execution_count": 11,
   "id": "32725dd1",
   "metadata": {},
   "outputs": [
    {
     "name": "stdout",
     "output_type": "stream",
     "text": [
      "He knew no more that he was poor, Nor that his frame was dust. He knew no more that he was poor, Nor that his frame was dust. He danced along the dingy days, And this bequest of wings Was but a book. What liberty A loosened spirit brings! brings! He danced along the dingy days, And this bequest of wings Was but a book. What liberty A loosened spirit brings! brings! He ate and drank the dingy days, And "
     ]
    }
   ],
   "source": [
    "simulate_poem(80)"
   ]
  },
  {
   "cell_type": "code",
   "execution_count": null,
   "id": "1b647faf",
   "metadata": {},
   "outputs": [],
   "source": []
  }
 ],
 "metadata": {
  "kernelspec": {
   "display_name": "Python 3 (ipykernel)",
   "language": "python",
   "name": "python3"
  },
  "language_info": {
   "codemirror_mode": {
    "name": "ipython",
    "version": 3
   },
   "file_extension": ".py",
   "mimetype": "text/x-python",
   "name": "python",
   "nbconvert_exporter": "python",
   "pygments_lexer": "ipython3",
   "version": "3.9.12"
  }
 },
 "nbformat": 4,
 "nbformat_minor": 5
}
